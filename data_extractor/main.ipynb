{
 "cells": [
  {
   "cell_type": "code",
   "execution_count": null,
   "metadata": {},
   "outputs": [],
   "source": []
  },
  {
   "cell_type": "code",
   "execution_count": 17,
   "metadata": {},
   "outputs": [],
   "source": [
    "from openai_key import OPENAI_KEY\n",
    "from openai import OpenAI\n",
    "import base64\n",
    "\n",
    "client = OpenAI(api_key=OPENAI_KEY)\n",
    "\n",
    "# Function to encode the image\n",
    "def encode_image(image_path):\n",
    "  with open(image_path, \"rb\") as image_file:\n",
    "    return base64.b64encode(image_file.read()).decode('utf-8')\n",
    "\n",
    "# Path to your image\n",
    "image_path = \"italics.png\"\n",
    "\n",
    "# Getting the base64 string\n",
    "base64_image = encode_image(image_path)\n",
    "\n",
    "response = client.chat.completions.create(\n",
    "  model=\"gpt-4-vision-preview\",\n",
    "  messages=[\n",
    "    {\n",
    "      \"role\": \"user\",\n",
    "      \"content\": [\n",
    "        {\"type\": \"text\", \"text\": \"Transcribe the text in this image. Format the text according to markdown, so that italicized text is surrounded by asterisks, and bold text is surrounded by double asterisks.\"},\n",
    "        {\n",
    "          \"type\": \"image_url\",\n",
    "          \"image_url\": {\n",
    "            \"url\": f\"data:image/png;base64,{base64_image}\"\n",
    "          },\n",
    "        },\n",
    "      ],\n",
    "    }\n",
    "  ],\n",
    "  max_tokens=1000,\n",
    ")"
   ]
  },
  {
   "cell_type": "code",
   "execution_count": 18,
   "metadata": {},
   "outputs": [
    {
     "name": "stdout",
     "output_type": "stream",
     "text": [
      "```markdown\n",
      "FAREWELL TO LÓRIEN\n",
      "\n",
      "the Silverlode. The current was swift and they went forward slowly. Sam sat in the bows, clutching the sides, and looking back wistfully to the shore. The sunlight glittering on the water dazzled his eyes. As they passed beyond the green field of the Tongue, the trees drew down to the river’s brink. Here and there golden leaves tossed and floated on the rippling stream. The air was very bright and still, and there was a silence, except for the high distant song of larks.\n",
      "They turned a sharp bend in the river, and there, sailing proudly down the stream towards them, they saw a swan of great size. The water rippled on either side of the white breast beneath its curving neck. Its beak shone like burnished gold, and its eyes glinted like jet set in yellow stones; its huge white wings were half lifted. A music came down the river as it drew nearer; and suddenly they perceived that it was a ship, wrought and carved with elven-skill in the likeness of a bird.\n",
      "Two elves clad in white steered it with black paddles. In the midst of the vessel sat Celeborn, and behind him stood Galadriel, tall and white; a circlet of golden flowers was in her hair, and in her hand she held a harp, and she sang. Sad and sweet was the sound of her voice in the cool clear air:\n",
      "\n",
      "*I sang of leaves, of leaves of gold, and leaves of gold there grew:*\n",
      "*Of wind I sang, a wind there came and in the branches blew.*\n",
      "*\n"
     ]
    }
   ],
   "source": [
    "\n",
    "msg = response.choices[0].message\n",
    "print(msg.content)"
   ]
  },
  {
   "cell_type": "code",
   "execution_count": 14,
   "metadata": {},
   "outputs": [
    {
     "data": {
      "text/plain": [
       "ChatCompletion(id='chatcmpl-8WeBwwOsnJdGdlKVnXfYoEbsD3FCq', choices=[Choice(finish_reason='content_filter', index=0, message=ChatCompletionMessage(content='the Silverlode. The current was swift and they went forward slowly. Sam sat in the bows, clutching the sides, and looking back wistfully to the shore. The sunlight glittering on the water dazzled his eyes. As they passed beyond the green field of the Tongue, the trees drew down to the river’s brink. Here and there golden leaves tossed and floated on the rippling stream. The air was very bright and still, and there was a silence, except for the high distant song of larks.\\n\\nThey turned a sharp bend in the river, and there, sailing proudly down the stream towards them, they saw a swan of great size. The water rippled on either side of the white breast beneath its curving neck. Its beak shone like burnished gold, and its eyes glinted like jet set in yellow stones; its huge white wings were half lifted. A music came down the river as it drew nearer; and suddenly they perceived that it was a ship, wrought and carved with elven-skill in the likeness of a bird. Two elves clad in white steered it with black paddles. In the midst of the vessel sat Celeborn, and behind him stood Galadriel, tall and white; a circlet of golden flowers was in her hair, and in her hand she held a harp, and she sang. Sad and sweet was the sound of her voice in the cool clear air:\\n\\n*I sang of leaves, of leaves of gold, and leaves of gold there grew:\\nOf wind I sang, a wind there came and in the branches blew.\\n', role='assistant', function_call=None, tool_calls=None))], created=1702791684, model='gpt-4-1106-vision-preview', object='chat.completion', system_fingerprint=None, usage=CompletionUsage(completion_tokens=328, prompt_tokens=1175, total_tokens=1503))"
      ]
     },
     "execution_count": 14,
     "metadata": {},
     "output_type": "execute_result"
    }
   ],
   "source": [
    "response"
   ]
  }
 ],
 "metadata": {
  "kernelspec": {
   "display_name": "nlp-project",
   "language": "python",
   "name": "python3"
  },
  "language_info": {
   "codemirror_mode": {
    "name": "ipython",
    "version": 3
   },
   "file_extension": ".py",
   "mimetype": "text/x-python",
   "name": "python",
   "nbconvert_exporter": "python",
   "pygments_lexer": "ipython3",
   "version": "3.11.5"
  }
 },
 "nbformat": 4,
 "nbformat_minor": 2
}
